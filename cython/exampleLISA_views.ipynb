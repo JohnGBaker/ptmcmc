{
 "cells": [
  {
   "cell_type": "code",
   "execution_count": null,
   "metadata": {},
   "outputs": [],
   "source": [
    "import glob\n",
    "import sys\n",
    "import os\n",
    "print(os.getcwd())\n",
    "ptmcmc=\"../python/\"\n",
    "sys.path.append(ptmcmc)\n",
    "import ptmcmc_analysis"
   ]
  },
  {
   "cell_type": "code",
   "execution_count": null,
   "metadata": {},
   "outputs": [],
   "source": [
    "'''\n",
    "Invocation examples:\n",
    "python3 -u exampleLISA.py --nsteps=10000000 --nskip=50 --save_every=50   --chain_ess_stop=2000 --chain_ess_limit=0 --outname=egLISA_limit0_t0 > egLISA_limit0.out&\n",
    "python3 -u exampleLISA.py --nsteps=10000000 --nskip=50 --save_every=50   --chain_ess_stop=2000 --chain_ess_limit=0 --outname=egLISA_limit0_pt3 --pt=3 > egLISA_limit0_pt3.out&\n",
    "python3 -u exampleLISA.py --nsteps=10000000 --nskip=50 --save_every=50   --chain_ess_stop=2000 --chain_ess_limit=0 --outname=egLISA_limit0_pt10 --pt=10 > egLISA_limit0_pt10.out&\n",
    "python3 -u exampleLISA.py --nsteps=10000000 --nskip=50 --save_every=50   --chain_ess_stop=2000 --chain_ess_limit=0 --outname=egLISA_limit0_pt20 --pt=20 > egLISA_limit0_pt20.out&\n",
    "python3 -u exampleLISA.py --nsteps=10000000 --nskip=50 --save_every=50   --chain_ess_stop=2000 --chain_ess_limit=0 --sym_prop_frac=0.2 --outname=egLISA_limit0_sp_t0 > egLISA_limit0_sp.out&\n",
    "python3 -u exampleLISA.py --nsteps=10000000 --nskip=50 --save_every=50   --chain_ess_stop=2000 --chain_ess_limit=0 --sym_prop_frac=0.2 --outname=egLISA_limit0_sp_pt10 --pt=10 > egLISA_limit0_sp_pt10.out&\n",
    "python3 -u exampleLISA.py --nsteps=10000000 --nskip=50 --save_every=50   --chain_ess_stop=2000 --chain_ess_limit=0 --sym_prop_frac=0.2 --prop_adapt_rate=0.01 --prop_adapt_more --outname=egLISA_limit0_sp_am_t0 > egLISA_limit0_sp_am.out&\n",
    "python3 -u exampleLISA.py --nsteps=10000000 --nskip=50 --save_every=50 --chain_ess_stop=2000 --chain_ess_limit=0 --sym_prop_frac=0.2 --prop_adapt_rate=0.01 --prop_adapt_more --pt=10 --outname=egLISA_limit0_sp_am_pt10 > egLISA_limit0_sp_am_pt10.out\n",
    "'''\n",
    "fname=[]\n",
    "fname+=glob.glob('*t0.dat')\n",
    "print(fname)"
   ]
  },
  {
   "cell_type": "code",
   "execution_count": null,
   "metadata": {
    "scrolled": false
   },
   "outputs": [],
   "source": [
    "%matplotlib notebook\n",
    "\n",
    "#noSSBfname=[name for name in fname if not \"SSB\" in name]\n",
    "#print(noSSBfname)\n",
    "ptmcmc_analysis.viewer(fname,selectX=False)\n",
    "#ptmcmc_analysis.viewer(fname,selectX=True)"
   ]
  },
  {
   "cell_type": "code",
   "execution_count": null,
   "metadata": {
    "scrolled": false
   },
   "outputs": [],
   "source": [
    "#2-D projections\n",
    "%matplotlib notebook\n",
    "ptmcmc_analysis.viewer(fname,selectX=True)"
   ]
  },
  {
   "cell_type": "code",
   "execution_count": null,
   "metadata": {},
   "outputs": [],
   "source": []
  }
 ],
 "metadata": {
  "kernelspec": {
   "display_name": "Python 3",
   "language": "python",
   "name": "python3"
  },
  "language_info": {
   "codemirror_mode": {
    "name": "ipython",
    "version": 3
   },
   "file_extension": ".py",
   "mimetype": "text/x-python",
   "name": "python",
   "nbconvert_exporter": "python",
   "pygments_lexer": "ipython3",
   "version": "3.6.8"
  }
 },
 "nbformat": 4,
 "nbformat_minor": 4
}
