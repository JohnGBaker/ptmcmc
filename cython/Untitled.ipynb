{
 "cells": [
  {
   "cell_type": "code",
   "execution_count": 1,
   "metadata": {},
   "outputs": [],
   "source": [
    "import ptmcmc\n",
    "import numpy as np\n"
   ]
  },
  {
   "cell_type": "code",
   "execution_count": 2,
   "metadata": {},
   "outputs": [
    {
     "name": "stdout",
     "output_type": "stream",
     "text": [
      "b'(-inf,inf)'\n",
      "(-inf, inf)\n",
      "True\n",
      "b'[-1,1]'\n",
      "(-1.0, 1.0)\n",
      "True\n",
      "False\n"
     ]
    }
   ],
   "source": [
    "b=ptmcmc.boundary()\n",
    "print(b.show())\n",
    "print(b.getDomainLimits())\n",
    "print(b.enforce(0))\n",
    "b=ptmcmc.boundary('limit','limit',-1,1)\n",
    "print(b.show())\n",
    "print(b.getDomainLimits())\n",
    "print(b.enforce(0))\n",
    "print(b.enforce(1.1))\n"
   ]
  },
  {
   "cell_type": "code",
   "execution_count": 3,
   "metadata": {},
   "outputs": [
    {
     "name": "stdout",
     "output_type": "stream",
     "text": [
      "Help on module ptmcmc:\n",
      "\n",
      "NAME\n",
      "    ptmcmc\n",
      "\n",
      "CLASSES\n",
      "    builtins.object\n",
      "        Options\n",
      "        boundary\n",
      "        likelihood\n",
      "        sampler\n",
      "        state\n",
      "        stateSpace\n",
      "    \n",
      "    class Options(builtins.object)\n",
      "     |  Class for handling options for program subcomponents. \n",
      "     |  \n",
      "     |  For wrapped C++ code the options are passed down into the C++ optioned interface.\n",
      "     |  Options not processed in the C++ code are presumed to be handled at the python level.\n",
      "     |  Options defined by python native code are processed, stored and accessed here.\n",
      "     |  \n",
      "     |  Methods defined here:\n",
      "     |  \n",
      "     |  __init__(self, /, *args, **kwargs)\n",
      "     |      Initialize self.  See help(type(self)) for accurate signature.\n",
      "     |  \n",
      "     |  __new__(*args, **kwargs) from builtins.type\n",
      "     |      Create and return a new object.  See help(type) for accurate signature.\n",
      "     |  \n",
      "     |  __reduce__ = __reduce_cython__(...)\n",
      "     |  \n",
      "     |  __setstate__ = __setstate_cython__(...)\n",
      "     |  \n",
      "     |  add(...)\n",
      "     |  \n",
      "     |  parse(...)\n",
      "    \n",
      "    class boundary(builtins.object)\n",
      "     |  Define boundary options for a parameter space dimension.\n",
      "     |  \n",
      "     |  Options are: 'open'=no limit, 'limit'=closed at value, 'reflect'=reflect around value, 'wrap'=wrap at value, onto other end\n",
      "     |  \n",
      "     |  Methods defined here:\n",
      "     |  \n",
      "     |  __new__(*args, **kwargs) from builtins.type\n",
      "     |      Create and return a new object.  See help(type) for accurate signature.\n",
      "     |  \n",
      "     |  __reduce__ = __reduce_cython__(...)\n",
      "     |  \n",
      "     |  __setstate__ = __setstate_cython__(...)\n",
      "     |  \n",
      "     |  enforce(...)\n",
      "     |  \n",
      "     |  getDomainLimits(...)\n",
      "     |  \n",
      "     |  show(...)\n",
      "     |  \n",
      "     |  ----------------------------------------------------------------------\n",
      "     |  Data and other attributes defined here:\n",
      "     |  \n",
      "     |  __pyx_vtable__ = <capsule object NULL>\n",
      "    \n",
      "    class likelihood(builtins.object)\n",
      "     |  User should define a class to inherit from this one overriding evaluate_log()\n",
      "     |  \n",
      "     |  Methods defined here:\n",
      "     |  \n",
      "     |  __new__(*args, **kwargs) from builtins.type\n",
      "     |      Create and return a new object.  See help(type) for accurate signature.\n",
      "     |  \n",
      "     |  __reduce__ = __reduce_cython__(...)\n",
      "     |  \n",
      "     |  __setstate__ = __setstate_cython__(...)\n",
      "     |  \n",
      "     |  basic_setup(...)\n",
      "     |  \n",
      "     |  draw_from_prior(...)\n",
      "     |  \n",
      "     |  ----------------------------------------------------------------------\n",
      "     |  Data and other attributes defined here:\n",
      "     |  \n",
      "     |  __pyx_vtable__ = <capsule object NULL>\n",
      "    \n",
      "    class sampler(builtins.object)\n",
      "     |  Methods defined here:\n",
      "     |  \n",
      "     |  __new__(*args, **kwargs) from builtins.type\n",
      "     |      Create and return a new object.  See help(type) for accurate signature.\n",
      "     |  \n",
      "     |  __reduce__ = __reduce_cython__(...)\n",
      "     |  \n",
      "     |  __setstate__ = __setstate_cython__(...)\n",
      "     |  \n",
      "     |  addOptions(...)\n",
      "     |  \n",
      "     |  initialize(...)\n",
      "     |  \n",
      "     |  run(...)\n",
      "     |  \n",
      "     |  setup(...)\n",
      "     |  \n",
      "     |  ----------------------------------------------------------------------\n",
      "     |  Data and other attributes defined here:\n",
      "     |  \n",
      "     |  __pyx_vtable__ = <capsule object NULL>\n",
      "    \n",
      "    class state(builtins.object)\n",
      "     |  Define the parameter state.\n",
      "     |  \n",
      "     |  Methods defined here:\n",
      "     |  \n",
      "     |  __new__(*args, **kwargs) from builtins.type\n",
      "     |      Create and return a new object.  See help(type) for accurate signature.\n",
      "     |  \n",
      "     |  __reduce__ = __reduce_cython__(...)\n",
      "     |  \n",
      "     |  __setstate__ = __setstate_cython__(...)\n",
      "     |  \n",
      "     |  getSpace(...)\n",
      "     |  \n",
      "     |  get_params(...)\n",
      "     |  \n",
      "     |  get_string(...)\n",
      "     |  \n",
      "     |  show(...)\n",
      "     |  \n",
      "     |  ----------------------------------------------------------------------\n",
      "     |  Data and other attributes defined here:\n",
      "     |  \n",
      "     |  __pyx_vtable__ = <capsule object NULL>\n",
      "    \n",
      "    class stateSpace(builtins.object)\n",
      "     |  Define the parameter state space.\n",
      "     |  \n",
      "     |  Methods defined here:\n",
      "     |  \n",
      "     |  __new__(*args, **kwargs) from builtins.type\n",
      "     |      Create and return a new object.  See help(type) for accurate signature.\n",
      "     |  \n",
      "     |  __reduce__ = __reduce_cython__(...)\n",
      "     |  \n",
      "     |  __setstate__ = __setstate_cython__(...)\n",
      "     |  \n",
      "     |  requireIndex(...)\n",
      "     |  \n",
      "     |  set_bound(...)\n",
      "     |  \n",
      "     |  set_names(...)\n",
      "     |  \n",
      "     |  show(...)\n",
      "     |  \n",
      "     |  size(...)\n",
      "     |  \n",
      "     |  ----------------------------------------------------------------------\n",
      "     |  Data and other attributes defined here:\n",
      "     |  \n",
      "     |  __pyx_vtable__ = <capsule object NULL>\n",
      "\n",
      "FUNCTIONS\n",
      "    resetRNGseed(...)\n",
      "\n",
      "DATA\n",
      "    __test__ = {}\n",
      "\n",
      "FILE\n",
      "    /Users/jgbaker/Projects/StellarAstronomy/TessSLB/src/LightCurveCode/ptmcmc/cython/ptmcmc.cpython-36m-darwin.so\n",
      "\n",
      "\n"
     ]
    }
   ],
   "source": [
    "help(ptmcmc)"
   ]
  },
  {
   "cell_type": "code",
   "execution_count": 4,
   "metadata": {},
   "outputs": [
    {
     "name": "stdout",
     "output_type": "stream",
     "text": [
      "StateSpace:(dim=2)\n",
      "  a in [-1,1]\n",
      "  b in w[-3.14159,3.14159)w\n",
      "\n"
     ]
    }
   ],
   "source": [
    "sp=ptmcmc.stateSpace(dim=2)\n",
    "sp.set_names(['a','b',])\n",
    "sp.set_bound('a',ptmcmc.boundary('limit','limit',-1,1))\n",
    "sp.set_bound('b',ptmcmc.boundary('wrap','wrap',-np.pi,np.pi))\n",
    "print(sp.show())"
   ]
  },
  {
   "cell_type": "code",
   "execution_count": 5,
   "metadata": {},
   "outputs": [
    {
     "name": "stdout",
     "output_type": "stream",
     "text": [
      "1\n"
     ]
    }
   ],
   "source": [
    "print(sp.requireIndex('b'))"
   ]
  },
  {
   "cell_type": "code",
   "execution_count": 6,
   "metadata": {},
   "outputs": [
    {
     "name": "stdout",
     "output_type": "stream",
     "text": [
      "b'w[-3.14159,3.14159)w'\n"
     ]
    },
    {
     "data": {
      "text/plain": [
       "'(\\n  a = 10\\n  b = 0.2\\n)\\n'"
      ]
     },
     "execution_count": 6,
     "metadata": {},
     "output_type": "execute_result"
    }
   ],
   "source": [
    "print(ptmcmc.boundary('wrap','wrap',-np.pi,np.pi).show())\n",
    "sp=ptmcmc.stateSpace(pars={'a':ptmcmc.boundary('limit','limit',-1,1),'b':ptmcmc.boundary('limit','limit',-1,1)})\n",
    "s=ptmcmc.state(sp,[10,.2])\n",
    "s.show()\n"
   ]
  },
  {
   "cell_type": "code",
   "execution_count": 7,
   "metadata": {},
   "outputs": [],
   "source": [
    "class trivial(ptmcmc.likelihood):\n",
    "    def __init__(self):\n",
    "        sp=ptmcmc.stateSpace(pars={'a':ptmcmc.boundary('limit','limit',-1,1),'b':ptmcmc.boundary('limit','limit',-1,1)})\n",
    "        self.basic_setup(sp, ['uni','uni'], [0,0], [1,1])\n",
    "    def evaluate_log(self,state):return 0"
   ]
  },
  {
   "cell_type": "code",
   "execution_count": 8,
   "metadata": {},
   "outputs": [
    {
     "name": "stdout",
     "output_type": "stream",
     "text": [
      "0\n"
     ]
    }
   ],
   "source": [
    "like=trivial()\n",
    "s0=like.draw_from_prior()\n",
    "s0.show()\n",
    "like0=like.evaluate_log(s0)\n",
    "print(like0)"
   ]
  },
  {
   "cell_type": "code",
   "execution_count": 9,
   "metadata": {},
   "outputs": [
    {
     "name": "stdout",
     "output_type": "stream",
     "text": [
      "Help on class trivial in module __main__:\n",
      "\n",
      "class trivial(ptmcmc.likelihood)\n",
      " |  User should define a class to inherit from this one overriding evaluate_log()\n",
      " |  \n",
      " |  Method resolution order:\n",
      " |      trivial\n",
      " |      ptmcmc.likelihood\n",
      " |      builtins.object\n",
      " |  \n",
      " |  Methods defined here:\n",
      " |  \n",
      " |  __init__(self)\n",
      " |      Initialize self.  See help(type(self)) for accurate signature.\n",
      " |  \n",
      " |  evaluate_log(self, state)\n",
      " |  \n",
      " |  ----------------------------------------------------------------------\n",
      " |  Data descriptors defined here:\n",
      " |  \n",
      " |  __dict__\n",
      " |      dictionary for instance variables (if defined)\n",
      " |  \n",
      " |  __weakref__\n",
      " |      list of weak references to the object (if defined)\n",
      " |  \n",
      " |  ----------------------------------------------------------------------\n",
      " |  Methods inherited from ptmcmc.likelihood:\n",
      " |  \n",
      " |  __new__(*args, **kwargs) from builtins.type\n",
      " |      Create and return a new object.  See help(type) for accurate signature.\n",
      " |  \n",
      " |  __reduce__ = __reduce_cython__(...)\n",
      " |  \n",
      " |  __setstate__ = __setstate_cython__(...)\n",
      " |  \n",
      " |  basic_setup(...)\n",
      " |  \n",
      " |  draw_from_prior(...)\n",
      " |  \n",
      " |  ----------------------------------------------------------------------\n",
      " |  Data and other attributes inherited from ptmcmc.likelihood:\n",
      " |  \n",
      " |  __pyx_vtable__ = <capsule object NULL>\n",
      "\n"
     ]
    }
   ],
   "source": [
    "help(trivial)"
   ]
  },
  {
   "cell_type": "code",
   "execution_count": null,
   "metadata": {},
   "outputs": [],
   "source": []
  }
 ],
 "metadata": {
  "kernelspec": {
   "display_name": "Python 3",
   "language": "python",
   "name": "python3"
  },
  "language_info": {
   "codemirror_mode": {
    "name": "ipython",
    "version": 3
   },
   "file_extension": ".py",
   "mimetype": "text/x-python",
   "name": "python",
   "nbconvert_exporter": "python",
   "pygments_lexer": "ipython3",
   "version": "3.6.8"
  }
 },
 "nbformat": 4,
 "nbformat_minor": 2
}
