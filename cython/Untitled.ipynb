{
 "cells": [
  {
   "cell_type": "code",
   "execution_count": 1,
   "metadata": {},
   "outputs": [],
   "source": [
    "import ptmcmc\n",
    "\n"
   ]
  },
  {
   "cell_type": "code",
   "execution_count": 11,
   "metadata": {},
   "outputs": [
    {
     "name": "stdout",
     "output_type": "stream",
     "text": [
      "b'(-inf,inf)'\n",
      "(-inf, inf)\n",
      "True\n",
      "b'[-1,1]'\n",
      "(-1.0, 1.0)\n",
      "True\n",
      "False\n"
     ]
    }
   ],
   "source": [
    "b=ptmcmc.boundary()\n",
    "print(b.show())\n",
    "print(b.getDomainLimits())\n",
    "print(b.enforce(0))\n",
    "b=ptmcmc.boundary('limit','limit',-1,1)\n",
    "print(b.show())\n",
    "print(b.getDomainLimits())\n",
    "print(b.enforce(0))\n",
    "print(b.enforce(1.1))\n"
   ]
  },
  {
   "cell_type": "code",
   "execution_count": 4,
   "metadata": {},
   "outputs": [
    {
     "name": "stdout",
     "output_type": "stream",
     "text": [
      "Help on module ptmcmc:\n",
      "\n",
      "NAME\n",
      "    ptmcmc\n",
      "\n",
      "CLASSES\n",
      "    builtins.object\n",
      "        boundary\n",
      "    \n",
      "    class boundary(builtins.object)\n",
      "     |  Methods defined here:\n",
      "     |  \n",
      "     |  __new__(*args, **kwargs) from builtins.type\n",
      "     |      Create and return a new object.  See help(type) for accurate signature.\n",
      "     |  \n",
      "     |  __reduce__ = __reduce_cython__(...)\n",
      "     |  \n",
      "     |  __setstate__ = __setstate_cython__(...)\n",
      "     |  \n",
      "     |  enforce(...)\n",
      "     |  \n",
      "     |  getDomainLimits(...)\n",
      "     |  \n",
      "     |  show(...)\n",
      "     |  \n",
      "     |  ----------------------------------------------------------------------\n",
      "     |  Data and other attributes defined here:\n",
      "     |  \n",
      "     |  __pyx_vtable__ = <capsule object NULL>\n",
      "\n",
      "DATA\n",
      "    __test__ = {}\n",
      "\n",
      "FILE\n",
      "    /home/john/Documents/Projects/MCMC/ptmcmc/cython/ptmcmc.cpython-36m-x86_64-linux-gnu.so\n",
      "\n",
      "\n"
     ]
    }
   ],
   "source": [
    "help(ptmcmc)"
   ]
  },
  {
   "cell_type": "code",
   "execution_count": null,
   "metadata": {},
   "outputs": [],
   "source": []
  }
 ],
 "metadata": {
  "kernelspec": {
   "display_name": "Python 3",
   "language": "python",
   "name": "python3"
  },
  "language_info": {
   "codemirror_mode": {
    "name": "ipython",
    "version": 3
   },
   "file_extension": ".py",
   "mimetype": "text/x-python",
   "name": "python",
   "nbconvert_exporter": "python",
   "pygments_lexer": "ipython3",
   "version": "3.6.7"
  }
 },
 "nbformat": 4,
 "nbformat_minor": 2
}
